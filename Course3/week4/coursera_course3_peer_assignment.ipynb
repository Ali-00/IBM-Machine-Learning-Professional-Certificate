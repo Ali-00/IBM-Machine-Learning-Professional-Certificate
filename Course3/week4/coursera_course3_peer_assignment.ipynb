{
 "cells": [
  {
   "cell_type": "code",
   "execution_count": null,
   "id": "f0b0026b",
   "metadata": {},
   "outputs": [],
   "source": [
    "import numpy as np\n",
    "import pandas as pd\n",
    "import matplotlib.pyplot as plt\n",
    "import seaborn as sns\n",
    "import os"
   ]
  },
  {
   "cell_type": "code",
   "execution_count": null,
   "id": "e72906bc",
   "metadata": {},
   "outputs": [],
   "source": [
    "os.chdir('E:\\Machine Learning Course\\Course3')"
   ]
  },
  {
   "cell_type": "code",
   "execution_count": null,
   "id": "2c4bccd0",
   "metadata": {},
   "outputs": [],
   "source": [
    "df = pd.read_csv('aug_train.csv')"
   ]
  },
  {
   "cell_type": "code",
   "execution_count": null,
   "id": "76d64be1",
   "metadata": {},
   "outputs": [],
   "source": [
    "df.head(2)"
   ]
  },
  {
   "cell_type": "code",
   "execution_count": null,
   "id": "dd00dd3e",
   "metadata": {},
   "outputs": [],
   "source": [
    "df.shape"
   ]
  },
  {
   "cell_type": "code",
   "execution_count": null,
   "id": "22ec072e",
   "metadata": {},
   "outputs": [],
   "source": [
    "df.info()"
   ]
  },
  {
   "cell_type": "code",
   "execution_count": null,
   "id": "87bfaaeb",
   "metadata": {},
   "outputs": [],
   "source": [
    "df.describe().T"
   ]
  },
  {
   "cell_type": "code",
   "execution_count": null,
   "id": "a8dfcd45",
   "metadata": {},
   "outputs": [],
   "source": [
    "df.isnull().sum()"
   ]
  },
  {
   "cell_type": "code",
   "execution_count": null,
   "id": "29bad45d",
   "metadata": {},
   "outputs": [],
   "source": [
    "cata = df.columns[df.dtypes==np.object]"
   ]
  },
  {
   "cell_type": "code",
   "execution_count": null,
   "id": "5252cdee",
   "metadata": {},
   "outputs": [],
   "source": [
    "cata"
   ]
  },
  {
   "cell_type": "code",
   "execution_count": null,
   "id": "494e0406",
   "metadata": {},
   "outputs": [],
   "source": [
    "from sklearn.preprocessing import LabelEncoder\n",
    "le = LabelEncoder()"
   ]
  },
  {
   "cell_type": "code",
   "execution_count": null,
   "id": "7551f3d9",
   "metadata": {},
   "outputs": [],
   "source": [
    "for x in cata:\n",
    "    df[x] = le.fit_transform(df[x])"
   ]
  },
  {
   "cell_type": "code",
   "execution_count": null,
   "id": "3626731e",
   "metadata": {},
   "outputs": [],
   "source": [
    "df.head(3)"
   ]
  },
  {
   "cell_type": "code",
   "execution_count": null,
   "id": "7ce081a7",
   "metadata": {},
   "outputs": [],
   "source": [
    "df.info()"
   ]
  },
  {
   "cell_type": "code",
   "execution_count": null,
   "id": "a06b552d",
   "metadata": {},
   "outputs": [],
   "source": [
    "df.nunique()"
   ]
  },
  {
   "cell_type": "code",
   "execution_count": null,
   "id": "8daf06f9",
   "metadata": {},
   "outputs": [],
   "source": [
    "df.drop('id',axis=1,inplace=True)"
   ]
  },
  {
   "cell_type": "code",
   "execution_count": null,
   "id": "f263a802",
   "metadata": {},
   "outputs": [],
   "source": [
    "df.info()"
   ]
  },
  {
   "cell_type": "code",
   "execution_count": null,
   "id": "47f51d60",
   "metadata": {},
   "outputs": [],
   "source": [
    "target = 'Response'\n",
    "feature_cols = [x for x in df if x!=target]"
   ]
  },
  {
   "cell_type": "code",
   "execution_count": null,
   "id": "a87a60f4",
   "metadata": {},
   "outputs": [],
   "source": [
    "sns.pairplot(df)"
   ]
  },
  {
   "cell_type": "code",
   "execution_count": null,
   "id": "e5a8d37b",
   "metadata": {},
   "outputs": [],
   "source": [
    "plt.figure(figsize=(40,40))\n",
    "sns.heatmap(df.corr(method ='pearson'),cmap='PuBu',annot=True,linewidths=0.5)\n",
    "plt.show()"
   ]
  },
  {
   "cell_type": "code",
   "execution_count": null,
   "id": "9132540d",
   "metadata": {},
   "outputs": [],
   "source": [
    "skew_limit = 0.75\n",
    "skew_vals = df[feature_cols].skew()\n",
    "skew_vals"
   ]
  },
  {
   "cell_type": "code",
   "execution_count": null,
   "id": "9455ef01",
   "metadata": {},
   "outputs": [],
   "source": [
    "skew_cols = (skew_vals.sort_values(ascending=False).to_frame().rename(columns={0:'Skew'}).query('abs(Skew) > {}'.format(skew_limit)))\n",
    "skew_cols"
   ]
  },
  {
   "cell_type": "code",
   "execution_count": null,
   "id": "4d10f7ec",
   "metadata": {},
   "outputs": [],
   "source": [
    "sns.histplot(df['Annual_Premium'],bins=25)"
   ]
  },
  {
   "cell_type": "code",
   "execution_count": null,
   "id": "fc9e5f7a",
   "metadata": {
    "scrolled": true
   },
   "outputs": [],
   "source": [
    "sns.histplot(df['Policy_Sales_Channel'],bins=25)"
   ]
  },
  {
   "cell_type": "code",
   "execution_count": null,
   "id": "a22712e4",
   "metadata": {},
   "outputs": [],
   "source": [
    "sns.histplot(df['Driving_License'],bins=25)"
   ]
  },
  {
   "cell_type": "code",
   "execution_count": null,
   "id": "31e0eb11",
   "metadata": {},
   "outputs": [],
   "source": [
    "for x in skew_cols.index.values:\n",
    "    if x == \"price\":\n",
    "        continue\n",
    "    df[x] = df[x].apply(np.log1p)"
   ]
  },
  {
   "cell_type": "code",
   "execution_count": null,
   "id": "d5191fe8",
   "metadata": {},
   "outputs": [],
   "source": [
    "skew_vals = df[feature_cols].skew()\n",
    "skew_vals"
   ]
  },
  {
   "cell_type": "code",
   "execution_count": null,
   "id": "d0c38e77",
   "metadata": {},
   "outputs": [],
   "source": [
    "sns.histplot(df['Annual_Premium'],label='Annual_Premium', palette='bone');\n"
   ]
  },
  {
   "cell_type": "code",
   "execution_count": null,
   "id": "983ac3da",
   "metadata": {},
   "outputs": [],
   "source": [
    "sns.histplot(df['Policy_Sales_Channel'], label='Policy_Sales_Channel');\n"
   ]
  },
  {
   "cell_type": "code",
   "execution_count": null,
   "id": "a2ce3442",
   "metadata": {},
   "outputs": [],
   "source": [
    "df[target].value_counts(normalize=True)"
   ]
  },
  {
   "cell_type": "code",
   "execution_count": null,
   "id": "ea970ee7",
   "metadata": {},
   "outputs": [],
   "source": [
    "test = pd.read_csv('aug_test.csv')"
   ]
  },
  {
   "cell_type": "code",
   "execution_count": null,
   "id": "ddf7435f",
   "metadata": {},
   "outputs": [],
   "source": [
    "test.head(3)"
   ]
  },
  {
   "cell_type": "code",
   "execution_count": null,
   "id": "c5dbfef3",
   "metadata": {},
   "outputs": [],
   "source": [
    "test.shape"
   ]
  },
  {
   "cell_type": "code",
   "execution_count": null,
   "id": "3d14aa8f",
   "metadata": {},
   "outputs": [],
   "source": [
    "cols = test.columns[test.dtypes==np.object]\n",
    "cols"
   ]
  },
  {
   "cell_type": "code",
   "execution_count": null,
   "id": "88ca90ed",
   "metadata": {},
   "outputs": [],
   "source": [
    "for x in cols:\n",
    "    test[x] = le.fit_transform(test[x])"
   ]
  },
  {
   "cell_type": "code",
   "execution_count": null,
   "id": "0acf49a7",
   "metadata": {},
   "outputs": [],
   "source": [
    "test.info()"
   ]
  },
  {
   "cell_type": "code",
   "execution_count": null,
   "id": "28b324ad",
   "metadata": {},
   "outputs": [],
   "source": [
    "test.drop('id',axis=1,inplace=True)"
   ]
  },
  {
   "cell_type": "code",
   "execution_count": null,
   "id": "2c09c72f",
   "metadata": {},
   "outputs": [],
   "source": [
    "test.info()"
   ]
  },
  {
   "cell_type": "code",
   "execution_count": null,
   "id": "cb33f81c",
   "metadata": {},
   "outputs": [],
   "source": [
    "test_mask = test.columns!=np.object"
   ]
  },
  {
   "cell_type": "code",
   "execution_count": null,
   "id": "5f8b40b9",
   "metadata": {},
   "outputs": [],
   "source": [
    "test_cols = test.columns[test_mask]\n",
    "test_cols"
   ]
  },
  {
   "cell_type": "code",
   "execution_count": null,
   "id": "6b6b5cd0",
   "metadata": {},
   "outputs": [],
   "source": [
    "test_skew_vals = test[test_cols].skew()"
   ]
  },
  {
   "cell_type": "code",
   "execution_count": null,
   "id": "0f64dc5d",
   "metadata": {},
   "outputs": [],
   "source": [
    "test_skew_vals"
   ]
  },
  {
   "cell_type": "code",
   "execution_count": null,
   "id": "63beea43",
   "metadata": {},
   "outputs": [],
   "source": [
    "test_skew_cols = (test_skew_vals.sort_values(ascending=False).to_frame().rename(columns={0:\"Skew\"}).query('abs(Skew)>{}'.format(skew_limit)))\n",
    "test_skew_cols"
   ]
  },
  {
   "cell_type": "code",
   "execution_count": null,
   "id": "352b6c1f",
   "metadata": {},
   "outputs": [],
   "source": [
    "for x in test_skew_cols.index.values:\n",
    "    test[x] = test[x].apply(np.log1p)"
   ]
  },
  {
   "cell_type": "code",
   "execution_count": null,
   "id": "77ffd24d",
   "metadata": {},
   "outputs": [],
   "source": [
    "test.describe().T"
   ]
  },
  {
   "cell_type": "code",
   "execution_count": null,
   "id": "79f44387",
   "metadata": {},
   "outputs": [],
   "source": [
    "from sklearn.preprocessing import StandardScaler,MinMaxScaler\n",
    "mm = MinMaxScaler()\n",
    "ss = StandardScaler()"
   ]
  },
  {
   "cell_type": "code",
   "execution_count": null,
   "id": "725c615e",
   "metadata": {},
   "outputs": [],
   "source": [
    "from sklearn.model_selection import StratifiedShuffleSplit,train_test_split"
   ]
  },
  {
   "cell_type": "code",
   "execution_count": null,
   "id": "ce8a5805",
   "metadata": {},
   "outputs": [],
   "source": [
    "X = df[feature_cols]\n",
    "y = df[target]"
   ]
  },
  {
   "cell_type": "code",
   "execution_count": null,
   "id": "09b4d16e",
   "metadata": {},
   "outputs": [],
   "source": [
    "from sklearn.ensemble import RandomForestClassifier, GradientBoostingClassifier, StackingClassifier"
   ]
  },
  {
   "cell_type": "code",
   "execution_count": null,
   "id": "b2d28709",
   "metadata": {},
   "outputs": [],
   "source": [
    "from sklearn.linear_model import LogisticRegression\n",
    "from sklearn.svm import SVC\n",
    "from sklearn.tree import DecisionTreeClassifier"
   ]
  },
  {
   "cell_type": "code",
   "execution_count": null,
   "id": "486b0066",
   "metadata": {},
   "outputs": [],
   "source": [
    "from imblearn.over_sampling import SMOTE\n",
    "from imblearn.combine import SMOTETomek\n",
    "from imblearn.under_sampling import NearMiss"
   ]
  },
  {
   "cell_type": "code",
   "execution_count": null,
   "id": "6a395ec6",
   "metadata": {},
   "outputs": [],
   "source": [
    "from sklearn.metrics import *"
   ]
  },
  {
   "cell_type": "code",
   "execution_count": null,
   "id": "092b8b17",
   "metadata": {},
   "outputs": [],
   "source": [
    "lr = LogisticRegression()\n",
    "svc = SVC()\n",
    "rf = RandomForestClassifier()"
   ]
  },
  {
   "cell_type": "code",
   "execution_count": null,
   "id": "e4e5d266",
   "metadata": {},
   "outputs": [],
   "source": [
    "X_train,X_test,y_train,y_test = train_test_split(X,y,random_state=42,stratify=y)"
   ]
  },
  {
   "cell_type": "code",
   "execution_count": null,
   "id": "96859adb",
   "metadata": {},
   "outputs": [],
   "source": [
    "svc = svc.fit(X_train,y_train)\n",
    "y_pred = svc.predict(X_test)"
   ]
  },
  {
   "cell_type": "code",
   "execution_count": null,
   "id": "39fbb8db",
   "metadata": {},
   "outputs": [],
   "source": []
  },
  {
   "cell_type": "code",
   "execution_count": null,
   "id": "672d800d",
   "metadata": {},
   "outputs": [],
   "source": [
    "accuracy = []\n",
    "for folds,(train_idx,test_idx) in enumerate(skf.split(X,y)):\n",
    "    X_train,X_test,y_train,y_test = (X.iloc[train_idx,:],X.iloc[test_idx,:],y[train_idx],y[test_idx])\n",
    "    X_train = ss.fit_transform(X_train)\n",
    "    X_test = ss.transform(X_test)\n",
    "    svc = svc.fit(X_train,y_train)\n",
    "    y_pred = svc.predict(X_test)\n",
    "    ac = accuracy_score(y_test,y_pred)\n",
    "accuracy"
   ]
  },
  {
   "cell_type": "code",
   "execution_count": null,
   "id": "5f465f14",
   "metadata": {},
   "outputs": [],
   "source": [
    "accuracy = []\n",
    "for folds,(train_idx,test_idx) in enumerate(skf.split(X,y)):\n",
    "    X_train,X_test,y_train,y_test = (X.iloc[train_idx,:],X.iloc[test_idx,:],y[train_idx],y[test_idx])\n",
    "    X_train = ss.fit_transform(X_train)\n",
    "    X_test = ss.transform(X_test)\n",
    "    rf = rf.fit(X_train,y_train)\n",
    "    y_pred = rf.predict(X_test)\n",
    "    ac = accuracy_score(y_test,y_pred)\n",
    "    accuracy.append(ac)\n",
    "accuracy"
   ]
  },
  {
   "cell_type": "code",
   "execution_count": null,
   "id": "a163729f",
   "metadata": {},
   "outputs": [],
   "source": [
    "from sklearn.pipeline import Pipeline\n",
    "from sklearn.model_selection import GridSearchCV,RandomizedSearchCV"
   ]
  },
  {
   "cell_type": "code",
   "execution_count": null,
   "id": "b4db3e6e",
   "metadata": {},
   "outputs": [],
   "source": [
    "param = {'n_estimators':[int(x) for x in np.linspace(start = 5 , stop = 15, num = 10)],\n",
    "             'max_features':['auto','log2'],\n",
    "             'max_depth':[int(x) for x in np.linspace(5, 10, num = 2)]}"
   ]
  },
  {
   "cell_type": "code",
   "execution_count": null,
   "id": "bdd5767a",
   "metadata": {},
   "outputs": [],
   "source": [
    "smt = SMOTE(sampling_strategy='minority', k_neighbors=5)\n",
    "cmb = SMOTETomek()"
   ]
  },
  {
   "cell_type": "code",
   "execution_count": null,
   "id": "34c4155e",
   "metadata": {},
   "outputs": [],
   "source": [
    "accuracy = []\n",
    "for folds,(train_idx,test_idx) in enumerate(skf.split(X,y)):\n",
    "    X_train,X_test,y_train,y_test = (X.iloc[train_idx,:],X.iloc[test_idx,:],y[train_idx],y[test_idx])\n",
    "    X_train = ss.fit_transform(X_train)\n",
    "    X_test = ss.transform(X_test)\n",
    "    train_u, y_train_u = smt.fit_resample(X_train, y_train)\n",
    "    rf = GridSearchCV(estimator=rf,param_grid=param,scoring='accuracy',n_jobs=-1)\n",
    "    rf = rf.fit(X_train,y_train)\n",
    "    y_pred = rf.predict(X_test)\n",
    "    ac = accuracy_score(y_test,y_pred)\n",
    "    accuracy.append(pd.Series({'Estimator':rf.best_estimator_,'accuracy':ac}))\n",
    "accuracy"
   ]
  },
  {
   "cell_type": "code",
   "execution_count": null,
   "id": "07ff7a07",
   "metadata": {},
   "outputs": [],
   "source": [
    "accuracy = []\n",
    "\n",
    "param = {\n",
    "    'n_estimators':[15,20,40,50,100,150,200,300,400],\n",
    "    'max_features':['auto','log2'],\n",
    "    'max_depth':[5,7,11,25]\n",
    "}\n",
    "for folds,(train_idx,test_idx) in enumerate(skf.split(X,y)):\n",
    "    X_train,X_test,y_train,y_test = (X.iloc[train_idx,:],X.iloc[test_idx,:],y[train_idx],y[test_idx])\n",
    "    grid = GridSearchCV(estimator=rf,param_grid=param,cv=skf)\n",
    "    grid.fit(X_train,y_train)"
   ]
  },
  {
   "cell_type": "code",
   "execution_count": null,
   "id": "0fdc66fd",
   "metadata": {},
   "outputs": [],
   "source": [
    "param = {\n",
    "    'n_estimators':[15,20,40,50,100,150,200,300,400],\n",
    "    'max_features':['auto','log2'],\n",
    "    'max_depth':[5,7,11,25]\n",
    "}\n",
    "for folds,(train_idx,test_idx) in enumerate(skf.split(X,y)):\n",
    "    X_train,X_test,y_train,y_test = (X.iloc[train_idx,:],X.iloc[test_idx,:],y[train_idx],y[test_idx])\n",
    "    grid = GridSearchCV(estimator=RandomForestClassifier(),param_grid=param)\n",
    "    grid.fit(X_train,y_train)"
   ]
  },
  {
   "cell_type": "code",
   "execution_count": null,
   "id": "3b2779d8",
   "metadata": {},
   "outputs": [],
   "source": []
  }
 ],
 "metadata": {
  "kernelspec": {
   "display_name": "Python 3",
   "language": "python",
   "name": "python3"
  },
  "language_info": {
   "codemirror_mode": {
    "name": "ipython",
    "version": 3
   },
   "file_extension": ".py",
   "mimetype": "text/x-python",
   "name": "python",
   "nbconvert_exporter": "python",
   "pygments_lexer": "ipython3",
   "version": "3.8.8"
  }
 },
 "nbformat": 4,
 "nbformat_minor": 5
}
