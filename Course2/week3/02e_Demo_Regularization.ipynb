{
 "cells": [
  {
   "cell_type": "code",
   "execution_count": 2,
   "id": "d9fd90f9",
   "metadata": {},
   "outputs": [],
   "source": [
    "import pandas as pd\n",
    "import numpy as np\n",
    "import pickle"
   ]
  },
  {
   "cell_type": "code",
   "execution_count": 5,
   "id": "e3202a74",
   "metadata": {},
   "outputs": [],
   "source": [
    "boston = pickle.load(open('E:/Machine Learning Course/Course2/week2/boston_housing_clean.pickle','rb'))\n",
    "boston_data = boston['dataframe']\n",
    "boston_description = boston['description']"
   ]
  },
  {
   "cell_type": "code",
   "execution_count": 6,
   "id": "bf9e26c6",
   "metadata": {},
   "outputs": [
    {
     "data": {
      "text/html": [
       "<div>\n",
       "<style scoped>\n",
       "    .dataframe tbody tr th:only-of-type {\n",
       "        vertical-align: middle;\n",
       "    }\n",
       "\n",
       "    .dataframe tbody tr th {\n",
       "        vertical-align: top;\n",
       "    }\n",
       "\n",
       "    .dataframe thead th {\n",
       "        text-align: right;\n",
       "    }\n",
       "</style>\n",
       "<table border=\"1\" class=\"dataframe\">\n",
       "  <thead>\n",
       "    <tr style=\"text-align: right;\">\n",
       "      <th></th>\n",
       "      <th>CRIM</th>\n",
       "      <th>ZN</th>\n",
       "      <th>INDUS</th>\n",
       "      <th>CHAS</th>\n",
       "      <th>NOX</th>\n",
       "      <th>RM</th>\n",
       "      <th>AGE</th>\n",
       "      <th>DIS</th>\n",
       "      <th>RAD</th>\n",
       "      <th>TAX</th>\n",
       "      <th>PTRATIO</th>\n",
       "      <th>B</th>\n",
       "      <th>LSTAT</th>\n",
       "      <th>MEDV</th>\n",
       "    </tr>\n",
       "  </thead>\n",
       "  <tbody>\n",
       "    <tr>\n",
       "      <th>0</th>\n",
       "      <td>0.00632</td>\n",
       "      <td>18.0</td>\n",
       "      <td>2.31</td>\n",
       "      <td>0.0</td>\n",
       "      <td>0.538</td>\n",
       "      <td>6.575</td>\n",
       "      <td>65.2</td>\n",
       "      <td>4.0900</td>\n",
       "      <td>1.0</td>\n",
       "      <td>296.0</td>\n",
       "      <td>15.3</td>\n",
       "      <td>396.90</td>\n",
       "      <td>4.98</td>\n",
       "      <td>24.0</td>\n",
       "    </tr>\n",
       "    <tr>\n",
       "      <th>1</th>\n",
       "      <td>0.02731</td>\n",
       "      <td>0.0</td>\n",
       "      <td>7.07</td>\n",
       "      <td>0.0</td>\n",
       "      <td>0.469</td>\n",
       "      <td>6.421</td>\n",
       "      <td>78.9</td>\n",
       "      <td>4.9671</td>\n",
       "      <td>2.0</td>\n",
       "      <td>242.0</td>\n",
       "      <td>17.8</td>\n",
       "      <td>396.90</td>\n",
       "      <td>9.14</td>\n",
       "      <td>21.6</td>\n",
       "    </tr>\n",
       "    <tr>\n",
       "      <th>2</th>\n",
       "      <td>0.02729</td>\n",
       "      <td>0.0</td>\n",
       "      <td>7.07</td>\n",
       "      <td>0.0</td>\n",
       "      <td>0.469</td>\n",
       "      <td>7.185</td>\n",
       "      <td>61.1</td>\n",
       "      <td>4.9671</td>\n",
       "      <td>2.0</td>\n",
       "      <td>242.0</td>\n",
       "      <td>17.8</td>\n",
       "      <td>392.83</td>\n",
       "      <td>4.03</td>\n",
       "      <td>34.7</td>\n",
       "    </tr>\n",
       "    <tr>\n",
       "      <th>3</th>\n",
       "      <td>0.03237</td>\n",
       "      <td>0.0</td>\n",
       "      <td>2.18</td>\n",
       "      <td>0.0</td>\n",
       "      <td>0.458</td>\n",
       "      <td>6.998</td>\n",
       "      <td>45.8</td>\n",
       "      <td>6.0622</td>\n",
       "      <td>3.0</td>\n",
       "      <td>222.0</td>\n",
       "      <td>18.7</td>\n",
       "      <td>394.63</td>\n",
       "      <td>2.94</td>\n",
       "      <td>33.4</td>\n",
       "    </tr>\n",
       "    <tr>\n",
       "      <th>4</th>\n",
       "      <td>0.06905</td>\n",
       "      <td>0.0</td>\n",
       "      <td>2.18</td>\n",
       "      <td>0.0</td>\n",
       "      <td>0.458</td>\n",
       "      <td>7.147</td>\n",
       "      <td>54.2</td>\n",
       "      <td>6.0622</td>\n",
       "      <td>3.0</td>\n",
       "      <td>222.0</td>\n",
       "      <td>18.7</td>\n",
       "      <td>396.90</td>\n",
       "      <td>5.33</td>\n",
       "      <td>36.2</td>\n",
       "    </tr>\n",
       "  </tbody>\n",
       "</table>\n",
       "</div>"
      ],
      "text/plain": [
       "      CRIM    ZN  INDUS  CHAS    NOX     RM   AGE     DIS  RAD    TAX  \\\n",
       "0  0.00632  18.0   2.31   0.0  0.538  6.575  65.2  4.0900  1.0  296.0   \n",
       "1  0.02731   0.0   7.07   0.0  0.469  6.421  78.9  4.9671  2.0  242.0   \n",
       "2  0.02729   0.0   7.07   0.0  0.469  7.185  61.1  4.9671  2.0  242.0   \n",
       "3  0.03237   0.0   2.18   0.0  0.458  6.998  45.8  6.0622  3.0  222.0   \n",
       "4  0.06905   0.0   2.18   0.0  0.458  7.147  54.2  6.0622  3.0  222.0   \n",
       "\n",
       "   PTRATIO       B  LSTAT  MEDV  \n",
       "0     15.3  396.90   4.98  24.0  \n",
       "1     17.8  396.90   9.14  21.6  \n",
       "2     17.8  392.83   4.03  34.7  \n",
       "3     18.7  394.63   2.94  33.4  \n",
       "4     18.7  396.90   5.33  36.2  "
      ]
     },
     "execution_count": 6,
     "metadata": {},
     "output_type": "execute_result"
    }
   ],
   "source": [
    "boston_data.head()"
   ]
  },
  {
   "cell_type": "code",
   "execution_count": 9,
   "id": "95df4320",
   "metadata": {
    "collapsed": true
   },
   "outputs": [
    {
     "name": "stdout",
     "output_type": "stream",
     "text": [
      "Boston House Prices dataset\n",
      "===========================\n",
      "\n",
      "Notes\n",
      "------\n",
      "Data Set Characteristics:  \n",
      "\n",
      "    :Number of Instances: 506 \n",
      "\n",
      "    :Number of Attributes: 13 numeric/categorical predictive\n",
      "    \n",
      "    :Median Value (attribute 14) is usually the target\n",
      "\n",
      "    :Attribute Information (in order):\n",
      "        - CRIM     per capita crime rate by town\n",
      "        - ZN       proportion of residential land zoned for lots over 25,000 sq.ft.\n",
      "        - INDUS    proportion of non-retail business acres per town\n",
      "        - CHAS     Charles River dummy variable (= 1 if tract bounds river; 0 otherwise)\n",
      "        - NOX      nitric oxides concentration (parts per 10 million)\n",
      "        - RM       average number of rooms per dwelling\n",
      "        - AGE      proportion of owner-occupied units built prior to 1940\n",
      "        - DIS      weighted distances to five Boston employment centres\n",
      "        - RAD      index of accessibility to radial highways\n",
      "        - TAX      full-value property-tax rate per $10,000\n",
      "        - PTRATIO  pupil-teacher ratio by town\n",
      "        - B        1000(Bk - 0.63)^2 where Bk is the proportion of blacks by town\n",
      "        - LSTAT    % lower status of the population\n",
      "        - MEDV     Median value of owner-occupied homes in $1000's\n",
      "\n",
      "    :Missing Attribute Values: None\n",
      "\n",
      "    :Creator: Harrison, D. and Rubinfeld, D.L.\n",
      "\n",
      "This is a copy of UCI ML housing dataset.\n",
      "http://archive.ics.uci.edu/ml/datasets/Housing\n",
      "\n",
      "\n",
      "This dataset was taken from the StatLib library which is maintained at Carnegie Mellon University.\n",
      "\n",
      "The Boston house-price data of Harrison, D. and Rubinfeld, D.L. 'Hedonic\n",
      "prices and the demand for clean air', J. Environ. Economics & Management,\n",
      "vol.5, 81-102, 1978.   Used in Belsley, Kuh & Welsch, 'Regression diagnostics\n",
      "...', Wiley, 1980.   N.B. Various transformations are used in the table on\n",
      "pages 244-261 of the latter.\n",
      "\n",
      "The Boston house-price data has been used in many machine learning papers that address regression\n",
      "problems.   \n",
      "     \n",
      "**References**\n",
      "\n",
      "   - Belsley, Kuh & Welsch, 'Regression diagnostics: Identifying Influential Data and Sources of Collinearity', Wiley, 1980. 244-261.\n",
      "   - Quinlan,R. (1993). Combining Instance-Based and Model-Based Learning. In Proceedings on the Tenth International Conference of Machine Learning, 236-243, University of Massachusetts, Amherst. Morgan Kaufmann.\n",
      "   - many more! (see http://archive.ics.uci.edu/ml/datasets/Housing)\n",
      "\n"
     ]
    }
   ],
   "source": [
    "print(boston_description)"
   ]
  },
  {
   "cell_type": "code",
   "execution_count": 10,
   "id": "e745a86e",
   "metadata": {},
   "outputs": [],
   "source": [
    "y_col = 'MEDV'\n",
    "\n",
    "X = boston_data.drop(y_col,axis=1)\n",
    "y = boston_data[y_col]"
   ]
  },
  {
   "cell_type": "code",
   "execution_count": 11,
   "id": "603e693c",
   "metadata": {},
   "outputs": [],
   "source": [
    "from sklearn.preprocessing import StandardScaler\n",
    "s = StandardScaler()\n",
    "X_ss = s.fit_transform(X)"
   ]
  },
  {
   "cell_type": "code",
   "execution_count": 14,
   "id": "7556cd2d",
   "metadata": {},
   "outputs": [
    {
     "data": {
      "text/plain": [
       "True"
      ]
     },
     "execution_count": 14,
     "metadata": {},
     "output_type": "execute_result"
    }
   ],
   "source": [
    "X2 = np.array(X)\n",
    "man_trans = (X2-X2.mean(axis=0))/X2.std(axis=0)\n",
    "np.allclose(X_ss,man_trans)"
   ]
  },
  {
   "cell_type": "code",
   "execution_count": 15,
   "id": "8b806a74",
   "metadata": {},
   "outputs": [],
   "source": [
    "from sklearn.linear_model import LinearRegression\n",
    "\n",
    "X = boston_data.drop(y_col,axis=1)\n",
    "y = boston_data[y_col]"
   ]
  },
  {
   "cell_type": "code",
   "execution_count": 16,
   "id": "2be0b6b4",
   "metadata": {},
   "outputs": [
    {
     "data": {
      "text/plain": [
       "LinearRegression()"
      ]
     },
     "execution_count": 16,
     "metadata": {},
     "output_type": "execute_result"
    }
   ],
   "source": [
    "lr = LinearRegression()\n",
    "lr.fit(X,y)"
   ]
  },
  {
   "cell_type": "code",
   "execution_count": 17,
   "id": "c2a1a311",
   "metadata": {},
   "outputs": [
    {
     "name": "stdout",
     "output_type": "stream",
     "text": [
      "[-1.07170557e-01  4.63952195e-02  2.08602395e-02  2.68856140e+00\n",
      " -1.77957587e+01  3.80475246e+00  7.51061703e-04 -1.47575880e+00\n",
      "  3.05655038e-01 -1.23293463e-02 -9.53463555e-01  9.39251272e-03\n",
      " -5.25466633e-01]\n"
     ]
    }
   ],
   "source": [
    "print(lr.coef_)"
   ]
  },
  {
   "cell_type": "code",
   "execution_count": 20,
   "id": "6028d45b",
   "metadata": {},
   "outputs": [],
   "source": [
    "from sklearn.preprocessing import StandardScaler\n",
    "\n",
    "s = StandardScaler()\n",
    "X_ss = s.fit_transform(X)"
   ]
  },
  {
   "cell_type": "code",
   "execution_count": 21,
   "id": "9db1936b",
   "metadata": {},
   "outputs": [
    {
     "data": {
      "text/plain": [
       "LinearRegression()"
      ]
     },
     "execution_count": 21,
     "metadata": {},
     "output_type": "execute_result"
    }
   ],
   "source": [
    "lr2 = LinearRegression()\n",
    "lr2.fit(X_ss,y)"
   ]
  },
  {
   "cell_type": "code",
   "execution_count": 22,
   "id": "f8afb8ad",
   "metadata": {},
   "outputs": [
    {
     "name": "stdout",
     "output_type": "stream",
     "text": [
      "[-0.92041113  1.08098058  0.14296712  0.68220346 -2.06009246  2.67064141\n",
      "  0.02112063 -3.10444805  2.65878654 -2.07589814 -2.06215593  0.85664044\n",
      " -3.74867982]\n"
     ]
    }
   ],
   "source": [
    "print(lr2.coef_)"
   ]
  },
  {
   "cell_type": "code",
   "execution_count": 24,
   "id": "53f42818",
   "metadata": {},
   "outputs": [
    {
     "data": {
      "text/html": [
       "<div>\n",
       "<style scoped>\n",
       "    .dataframe tbody tr th:only-of-type {\n",
       "        vertical-align: middle;\n",
       "    }\n",
       "\n",
       "    .dataframe tbody tr th {\n",
       "        vertical-align: top;\n",
       "    }\n",
       "\n",
       "    .dataframe thead th {\n",
       "        text-align: right;\n",
       "    }\n",
       "</style>\n",
       "<table border=\"1\" class=\"dataframe\">\n",
       "  <thead>\n",
       "    <tr style=\"text-align: right;\">\n",
       "      <th></th>\n",
       "      <th>0</th>\n",
       "      <th>1</th>\n",
       "    </tr>\n",
       "  </thead>\n",
       "  <tbody>\n",
       "    <tr>\n",
       "      <th>12</th>\n",
       "      <td>LSTAT</td>\n",
       "      <td>-3.748680</td>\n",
       "    </tr>\n",
       "    <tr>\n",
       "      <th>7</th>\n",
       "      <td>DIS</td>\n",
       "      <td>-3.104448</td>\n",
       "    </tr>\n",
       "    <tr>\n",
       "      <th>9</th>\n",
       "      <td>TAX</td>\n",
       "      <td>-2.075898</td>\n",
       "    </tr>\n",
       "    <tr>\n",
       "      <th>10</th>\n",
       "      <td>PTRATIO</td>\n",
       "      <td>-2.062156</td>\n",
       "    </tr>\n",
       "    <tr>\n",
       "      <th>4</th>\n",
       "      <td>NOX</td>\n",
       "      <td>-2.060092</td>\n",
       "    </tr>\n",
       "    <tr>\n",
       "      <th>0</th>\n",
       "      <td>CRIM</td>\n",
       "      <td>-0.920411</td>\n",
       "    </tr>\n",
       "    <tr>\n",
       "      <th>6</th>\n",
       "      <td>AGE</td>\n",
       "      <td>0.021121</td>\n",
       "    </tr>\n",
       "    <tr>\n",
       "      <th>2</th>\n",
       "      <td>INDUS</td>\n",
       "      <td>0.142967</td>\n",
       "    </tr>\n",
       "    <tr>\n",
       "      <th>3</th>\n",
       "      <td>CHAS</td>\n",
       "      <td>0.682203</td>\n",
       "    </tr>\n",
       "    <tr>\n",
       "      <th>11</th>\n",
       "      <td>B</td>\n",
       "      <td>0.856640</td>\n",
       "    </tr>\n",
       "    <tr>\n",
       "      <th>1</th>\n",
       "      <td>ZN</td>\n",
       "      <td>1.080981</td>\n",
       "    </tr>\n",
       "    <tr>\n",
       "      <th>8</th>\n",
       "      <td>RAD</td>\n",
       "      <td>2.658787</td>\n",
       "    </tr>\n",
       "    <tr>\n",
       "      <th>5</th>\n",
       "      <td>RM</td>\n",
       "      <td>2.670641</td>\n",
       "    </tr>\n",
       "  </tbody>\n",
       "</table>\n",
       "</div>"
      ],
      "text/plain": [
       "          0         1\n",
       "12    LSTAT -3.748680\n",
       "7       DIS -3.104448\n",
       "9       TAX -2.075898\n",
       "10  PTRATIO -2.062156\n",
       "4       NOX -2.060092\n",
       "0      CRIM -0.920411\n",
       "6       AGE  0.021121\n",
       "2     INDUS  0.142967\n",
       "3      CHAS  0.682203\n",
       "11        B  0.856640\n",
       "1        ZN  1.080981\n",
       "8       RAD  2.658787\n",
       "5        RM  2.670641"
      ]
     },
     "execution_count": 24,
     "metadata": {},
     "output_type": "execute_result"
    }
   ],
   "source": [
    "pd.DataFrame(zip(X.columns,lr2.coef_)).sort_values(by=1)"
   ]
  },
  {
   "cell_type": "code",
   "execution_count": 25,
   "id": "8c69b631",
   "metadata": {},
   "outputs": [],
   "source": [
    "from sklearn.linear_model import Lasso\n",
    "from sklearn.preprocessing import PolynomialFeatures\n",
    "\n",
    "pf = PolynomialFeatures(degree=2,include_bias=False,)\n",
    "X_pf = pf.fit_transform(X)"
   ]
  },
  {
   "cell_type": "code",
   "execution_count": 26,
   "id": "12264c1b",
   "metadata": {},
   "outputs": [],
   "source": [
    "X_pf_ss = s.fit_transform(X_pf)"
   ]
  },
  {
   "cell_type": "code",
   "execution_count": 27,
   "id": "cc1fe47c",
   "metadata": {},
   "outputs": [
    {
     "data": {
      "text/plain": [
       "array([-0.        ,  0.        , -0.        ,  0.        , -0.        ,\n",
       "        0.        , -0.        , -0.        , -0.        , -0.        ,\n",
       "       -0.99073506,  0.        , -0.        , -0.        ,  0.        ,\n",
       "       -0.        ,  0.06751971, -0.        , -0.        , -0.        ,\n",
       "       -0.        , -0.        , -0.        , -0.        , -0.        ,\n",
       "       -0.        ,  0.        ,  0.        ,  0.        ,  0.        ,\n",
       "        0.        ,  0.        ,  0.        ,  0.        ,  0.        ,\n",
       "        0.        ,  0.        ,  0.        , -0.        ,  0.        ,\n",
       "       -0.        , -0.        , -0.        , -0.05012402, -0.        ,\n",
       "       -0.        , -0.        , -0.        , -0.        ,  0.        ,\n",
       "        0.        ,  0.        ,  0.        ,  0.        ,  0.        ,\n",
       "        0.        ,  0.        ,  0.        ,  0.        , -0.        ,\n",
       "       -0.        , -0.        , -0.        , -0.        , -0.        ,\n",
       "       -0.        ,  0.        , -0.        ,  3.30027884, -0.        ,\n",
       "       -0.        , -0.        , -0.        , -0.        ,  0.42003516,\n",
       "       -3.49770286, -0.        , -0.        , -0.        , -0.        ,\n",
       "       -0.        ,  0.        , -0.        , -0.        , -0.        ,\n",
       "       -0.14600958, -0.        , -0.        , -0.        , -0.        ,\n",
       "       -0.        , -0.        , -0.        , -0.        , -0.        ,\n",
       "       -0.        , -0.        , -0.        , -0.        ,  0.        ,\n",
       "       -0.        ,  0.        , -0.        , -0.        ])"
      ]
     },
     "execution_count": 27,
     "metadata": {},
     "output_type": "execute_result"
    }
   ],
   "source": [
    "las = Lasso()\n",
    "las.fit(X_pf_ss,y)\n",
    "las.coef_"
   ]
  },
  {
   "cell_type": "code",
   "execution_count": 33,
   "id": "4cbea5d1",
   "metadata": {},
   "outputs": [
    {
     "name": "stdout",
     "output_type": "stream",
     "text": [
      "sum of coefficient  26.172415115426787\n",
      "sum of coefficient that not equal to zero  23\n"
     ]
    }
   ],
   "source": [
    "las1 = Lasso(alpha=0.1)\n",
    "las1.fit(X_pf_ss,y)\n",
    "print('sum of coefficient ',abs(las1.coef_).sum())\n",
    "print('sum of coefficient that not equal to zero ',(las1.coef_ != 0).sum())"
   ]
  },
  {
   "cell_type": "code",
   "execution_count": 34,
   "id": "6c2aa35f",
   "metadata": {},
   "outputs": [
    {
     "name": "stdout",
     "output_type": "stream",
     "text": [
      "sum of coefficient  8.472405227760156\n",
      "sum of coefficient that not equal to zero  7\n"
     ]
    }
   ],
   "source": [
    "las2 = Lasso(alpha=1)\n",
    "las2.fit(X_pf_ss,y)\n",
    "print('sum of coefficient ',abs(las2.coef_).sum())\n",
    "print('sum of coefficient that not equal to zero ',(las2.coef_ != 0).sum())"
   ]
  },
  {
   "cell_type": "code",
   "execution_count": 41,
   "id": "565bab2a",
   "metadata": {},
   "outputs": [
    {
     "data": {
      "text/plain": [
       "0.7207000461229027"
      ]
     },
     "execution_count": 41,
     "metadata": {},
     "output_type": "execute_result"
    }
   ],
   "source": [
    "from sklearn.metrics import r2_score\n",
    "r2_score(y,las2.predict(X_pf_ss))"
   ]
  },
  {
   "cell_type": "code",
   "execution_count": 37,
   "id": "515c82b2",
   "metadata": {},
   "outputs": [],
   "source": [
    "from sklearn.model_selection import train_test_split\n",
    "X_train,X_test,y_train,y_test = train_test_split(X_pf,y,test_size=0.3,random_state=72018)"
   ]
  },
  {
   "cell_type": "code",
   "execution_count": 43,
   "id": "1f0e83ca",
   "metadata": {},
   "outputs": [
    {
     "data": {
      "text/plain": [
       "0.3318289609088583"
      ]
     },
     "execution_count": 43,
     "metadata": {},
     "output_type": "execute_result"
    }
   ],
   "source": [
    "X_train_s = s.fit_transform(X_train)\n",
    "las.fit(X_train_s,y_train)\n",
    "X_test_s = s.transform(X_test)\n",
    "y_pred = las.predict(X_test_s)\n",
    "r2_score(y_pred,y_test)"
   ]
  },
  {
   "cell_type": "code",
   "execution_count": 44,
   "id": "ed08dd9d",
   "metadata": {},
   "outputs": [
    {
     "data": {
      "text/plain": [
       "0.711227316581263"
      ]
     },
     "execution_count": 44,
     "metadata": {},
     "output_type": "execute_result"
    }
   ],
   "source": [
    "X_train_s = s.fit_transform(X_train)\n",
    "las1.fit(X_train_s,y_train)\n",
    "X_test_s = s.transform(X_test)\n",
    "y_pred = las1.predict(X_test_s)\n",
    "r2_score(y_pred,y_test)"
   ]
  },
  {
   "cell_type": "code",
   "execution_count": 46,
   "id": "9524bd68",
   "metadata": {},
   "outputs": [
    {
     "name": "stdout",
     "output_type": "stream",
     "text": [
      "r2_score  for alpha=0.001 0.8688370609866953\n",
      "r2_score  for alpha=0.001 0.8558518908813447\n",
      "sum of coefficient  435.57232290440345\n",
      "sum of coefficient that not equal to zero  90\n",
      "sum of coefficient  1183.891813866429\n",
      "sum of coefficient that not equal to zero  104\n"
     ]
    }
   ],
   "source": [
    "las001 = Lasso(alpha=0.001,max_iter=100000)\n",
    "X_train_s = s.fit_transform(X_train)\n",
    "las001.fit(X_train_s,y_train)\n",
    "X_test_s = s.transform(X_test)\n",
    "y_pred = las001.predict(X_test_s)\n",
    "print('r2_score  for alpha=0.001',r2_score(y_pred,y_test))\n",
    "\n",
    "\n",
    "lr = LinearRegression()\n",
    "lr.fit(X_train_s,y_train)\n",
    "y_pred_lr = lr.predict(X_test_s)\n",
    "print('r2_score  for alpha=0.001',r2_score(y_pred_lr,y_test))\n",
    "\n",
    "\n",
    "print('sum of coefficient ',abs(las001.coef_).sum())\n",
    "print('sum of coefficient that not equal to zero ',(las001.coef_!= 0).sum())\n",
    "print('sum of coefficient ',abs(lr.coef_).sum())\n",
    "print('sum of coefficient that not equal to zero ',(lr.coef_!= 0).sum())"
   ]
  },
  {
   "cell_type": "code",
   "execution_count": 47,
   "id": "2bd238ca",
   "metadata": {},
   "outputs": [],
   "source": [
    "from sklearn.linear_model import Ridge"
   ]
  },
  {
   "cell_type": "code",
   "execution_count": 48,
   "id": "b2833937",
   "metadata": {},
   "outputs": [
    {
     "data": {
      "text/plain": [
       "array([  7.69158031,   9.88890473, -25.00525751,   5.31046818,\n",
       "        -2.60993701,  14.95803313,  22.31375473, -22.8579177 ,\n",
       "        27.76499232,  -1.5651209 ,  17.07749893,  21.85840549,\n",
       "        11.57430607,   1.0501267 ,   0.43058525,  13.78571186,\n",
       "         1.8138621 ,  -8.34497303,   4.99428114,  -3.56428247,\n",
       "        -3.43620979, -16.33550823,  -7.04652168,   6.60858547,\n",
       "        -1.47661   ,   4.68585754,  -1.30404236,  -0.05944784,\n",
       "        -0.30379373, -12.84226172,   1.97669112,   1.08130677,\n",
       "        -0.67550448,  -1.07931934,   4.49162494,  -4.26689794,\n",
       "         4.67486611,  -1.28089201,   8.66602804,  -0.27373083,\n",
       "        -8.11960573,  11.78297941,   6.53845776,   1.32299881,\n",
       "         2.05956326,   0.89895643,   1.7894665 ,   4.74421976,\n",
       "        -4.66441531,   5.31046818,  -3.23646667,  -8.66803392,\n",
       "         0.97293208,   1.13586914,   0.29037187,  -1.63142731,\n",
       "        -2.92599804,   2.92315095,  -0.73510358,  11.89603615,\n",
       "         0.75403388,  -7.53119729,  18.30567198, -22.16809127,\n",
       "        35.6511429 , -22.38147512,  -7.37805787,   1.73161223,\n",
       "         4.06783879, -12.25400704,  -3.7205649 ,  -5.53714787,\n",
       "       -16.16852126,  -5.87194281,  -4.51530965,  -9.90306269,\n",
       "         0.94154775,  -0.09527988,  17.17999006, -14.26825667,\n",
       "        -2.90436315,  -2.82418895,  -5.41771819,  11.90786565,\n",
       "         0.06464714,  -4.4327351 ,  -5.6787619 ,  -3.51462525,\n",
       "         0.82200331, -29.08179429,  49.34519359, -21.72034431,\n",
       "        -1.4276628 ,  -8.86435308, -15.68192195,  11.98178941,\n",
       "        -0.81828176,   2.92403392,  -0.70149242,  -4.37481606,\n",
       "         2.71199687,  -2.48039401,  -2.38240974,   1.7070104 ])"
      ]
     },
     "execution_count": 48,
     "metadata": {},
     "output_type": "execute_result"
    }
   ],
   "source": [
    "r = Ridge(alpha=0.001)\n",
    "X_train_s = s.fit_transform(X_train)\n",
    "r.fit(X_train_s,y_train)\n",
    "X_test_s = s.transform(X_test)\n",
    "y_pred_r = r.predict(X_test_s)\n",
    "r.coef_"
   ]
  },
  {
   "cell_type": "code",
   "execution_count": 49,
   "id": "6fede218",
   "metadata": {},
   "outputs": [
    {
     "data": {
      "text/plain": [
       "array([ 0.00000000e+00,  0.00000000e+00, -1.70077961e+01,  2.59218903e+00,\n",
       "        0.00000000e+00,  1.34310751e+01,  1.00617885e+01, -1.95420304e+01,\n",
       "        9.23745604e+00,  0.00000000e+00,  6.15850148e+00,  1.70865644e+01,\n",
       "        1.14862999e+01,  1.20761498e+00,  2.19212098e-01,  1.08266235e+01,\n",
       "        2.18532977e+00, -7.10563499e+00,  4.31223434e+00, -1.52608936e+00,\n",
       "       -2.09150369e+00, -9.66889138e+00,  0.00000000e+00,  0.00000000e+00,\n",
       "       -1.17685620e+00,  3.86518537e+00,  3.77856352e-01,  1.94047899e-01,\n",
       "       -2.95878630e-01, -3.47818534e+00,  2.91171870e-01,  7.20249225e-01,\n",
       "       -7.95193179e-01, -7.39638413e-01,  2.40656329e+00, -8.91898909e-01,\n",
       "        2.83533285e+00, -9.83613898e-01,  3.86402286e+00, -9.62972947e-01,\n",
       "        6.91383535e+00,  6.19985710e+00,  4.19727921e+00,  8.92131589e-01,\n",
       "        2.02792608e+00,  2.60830224e+00, -3.97491024e+00,  2.57367502e+00,\n",
       "       -4.56754935e+00,  2.08634607e+00, -2.00046119e+00, -7.41198425e+00,\n",
       "        1.60411709e+00,  1.67597097e+00, -1.24799426e+00, -0.00000000e+00,\n",
       "       -0.00000000e+00,  2.57566934e+00, -8.50976767e-01,  3.20561070e+00,\n",
       "       -0.00000000e+00, -2.42878507e+00,  9.27645884e+00, -7.05572601e+00,\n",
       "        0.00000000e+00, -5.95498368e+00, -5.32589635e+00,  5.31367201e-01,\n",
       "        3.34367226e+00, -7.57536263e+00, -0.00000000e+00, -6.76197087e+00,\n",
       "       -1.02000337e+01, -6.42793905e+00, -2.83478823e+00, -9.56126916e+00,\n",
       "        2.87563555e-01,  5.49160736e-01,  1.10938490e+01, -6.73112007e+00,\n",
       "       -1.16090600e+00, -2.30073536e+00, -3.55508244e+00,  9.11977084e+00,\n",
       "       -1.37587419e-02, -2.38395361e+00, -2.04218488e+00, -1.69114705e+00,\n",
       "        7.97960422e-01, -2.08215962e+01,  2.70895858e+01,  0.00000000e+00,\n",
       "       -1.52745128e+00, -6.79286440e+00, -5.08410684e+00,  1.55768455e+01,\n",
       "        0.00000000e+00, -0.00000000e+00,  5.68665542e-01, -3.45626440e+00,\n",
       "        2.45808201e+00, -2.50147188e+00, -2.22335328e+00,  2.22649089e+00])"
      ]
     },
     "execution_count": 49,
     "metadata": {},
     "output_type": "execute_result"
    }
   ],
   "source": [
    "las001.coef_"
   ]
  },
  {
   "cell_type": "code",
   "execution_count": 50,
   "id": "9ce96720",
   "metadata": {},
   "outputs": [
    {
     "name": "stdout",
     "output_type": "stream",
     "text": [
      "sum of coefficient of r 792.8673755130682\n",
      "sum of coefficient of lasso 435.57232290440345\n",
      "sum of coefficient that not equal to zero of r 104\n",
      "sum of coefficient that not equal to zero of lasso 90\n"
     ]
    }
   ],
   "source": [
    "print('sum of coefficient of r',abs(r.coef_).sum())\n",
    "print('sum of coefficient of lasso',abs(las001.coef_).sum())\n",
    "\n",
    "print('sum of coefficient that not equal to zero of r',(r.coef_ != 0).sum())\n",
    "print('sum of coefficient that not equal to zero of lasso',(las001.coef_ != 0).sum())"
   ]
  },
  {
   "cell_type": "code",
   "execution_count": null,
   "id": "195e6a32",
   "metadata": {},
   "outputs": [],
   "source": []
  }
 ],
 "metadata": {
  "kernelspec": {
   "display_name": "Python 3",
   "language": "python",
   "name": "python3"
  },
  "language_info": {
   "codemirror_mode": {
    "name": "ipython",
    "version": 3
   },
   "file_extension": ".py",
   "mimetype": "text/x-python",
   "name": "python",
   "nbconvert_exporter": "python",
   "pygments_lexer": "ipython3",
   "version": "3.8.8"
  }
 },
 "nbformat": 4,
 "nbformat_minor": 5
}
